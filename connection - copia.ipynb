{
  "nbformat": 4,
  "nbformat_minor": 0,
  "metadata": {
    "colab": {
      "provenance": []
    },
    "kernelspec": {
      "name": "python3",
      "display_name": "Python 3"
    },
    "language_info": {
      "name": "python"
    }
  },
  "cells": [
    {
      "cell_type": "code",
      "source": [
        "pip install mysql-connector-python\n"
      ],
      "metadata": {
        "colab": {
          "base_uri": "https://localhost:8080/"
        },
        "id": "u2mT4sxWTXdM",
        "outputId": "be0d5d8d-8af3-450b-8fb6-ff2d5e2e81f4"
      },
      "execution_count": 1,
      "outputs": [
        {
          "output_type": "stream",
          "name": "stdout",
          "text": [
            "Collecting mysql-connector-python\n",
            "  Downloading mysql_connector_python-8.1.0-cp310-cp310-manylinux_2_17_x86_64.whl (27.5 MB)\n",
            "\u001b[2K     \u001b[90m━━━━━━━━━━━━━━━━━━━━━━━━━━━━━━━━━━━━━━━━\u001b[0m \u001b[32m27.5/27.5 MB\u001b[0m \u001b[31m31.4 MB/s\u001b[0m eta \u001b[36m0:00:00\u001b[0m\n",
            "\u001b[?25hCollecting protobuf<=4.21.12,>=4.21.1 (from mysql-connector-python)\n",
            "  Downloading protobuf-4.21.12-cp37-abi3-manylinux2014_x86_64.whl (409 kB)\n",
            "\u001b[2K     \u001b[90m━━━━━━━━━━━━━━━━━━━━━━━━━━━━━━━━━━━━━━\u001b[0m \u001b[32m409.8/409.8 kB\u001b[0m \u001b[31m37.9 MB/s\u001b[0m eta \u001b[36m0:00:00\u001b[0m\n",
            "\u001b[?25hInstalling collected packages: protobuf, mysql-connector-python\n",
            "  Attempting uninstall: protobuf\n",
            "    Found existing installation: protobuf 3.20.3\n",
            "    Uninstalling protobuf-3.20.3:\n",
            "      Successfully uninstalled protobuf-3.20.3\n",
            "Successfully installed mysql-connector-python-8.1.0 protobuf-4.21.12\n"
          ]
        }
      ]
    },
    {
      "cell_type": "code",
      "source": [
        "import pandas as pd\n",
        "import mysql.connector"
      ],
      "metadata": {
        "id": "kCGLx8WZS-bO"
      },
      "execution_count": 2,
      "outputs": []
    },
    {
      "cell_type": "code",
      "source": [
        "# Extract: leer datos de una URL\n",
        "url = 'https://people.sc.fsu.edu/~jburkardt/data/csv/airtravel.csv'\n",
        "df = pd.read_csv(url)"
      ],
      "metadata": {
        "id": "lurx9xjPQ740"
      },
      "execution_count": 3,
      "outputs": []
    },
    {
      "cell_type": "code",
      "source": [
        "# Transform: realizar algunas operaciones de procesamiento de datos\n",
        "df['promedio'] = (df[' \"1958\"'] + df[' \"1959\"'] + df[' \"1960\"']) / 3\n",
        "\n",
        "df = df[df[' \"1960\"'] > 450]\n",
        "df = df.dropna()\n",
        "df = df.rename(columns={' \"1958\"': 'año 1958', ' \"1959\"': 'año 1959', ' \"1960\"': 'año 1960'})\n",
        "df = df.rename(columns={'Month': 'Mes'})"
      ],
      "metadata": {
        "id": "_GDzvHzHQ-32"
      },
      "execution_count": 4,
      "outputs": []
    },
    {
      "cell_type": "code",
      "source": [
        "# Load: establecer conexión con MySQL y cargar los datos en una tabla\n",
        "conexion = mysql.connector.connect(user='ukq4njegozl8dlkx', password='FhEHCRAwAEzqfzp66njg', host= 'b7au8y7g2g0w7tcvgtut-mysql.services.clever-cloud.com', database='b7au8y7g2g0w7tcvgtut', port= '3306')"
      ],
      "metadata": {
        "id": "8Idu3PNZRBrw"
      },
      "execution_count": 5,
      "outputs": []
    },
    {
      "cell_type": "code",
      "source": [
        "# Suponiendo que ya tienes una tabla llamada 'airtravel' creada en tu base de datos\n",
        "nombre_tabla = 'meses_año'"
      ],
      "metadata": {
        "id": "Rnp_T5UpREjV"
      },
      "execution_count": 6,
      "outputs": []
    },
    {
      "cell_type": "code",
      "source": [
        "# Insertar registros del DataFrame en MySQL\n",
        "with conexion.cursor() as cursor:\n",
        "    # Crear la tabla si no existe\n",
        "    crear_tabla_query = '''\n",
        "    CREATE TABLE IF NOT EXISTS {} (\n",
        "        Mes VARCHAR(10),\n",
        "        `1958` INT,\n",
        "        `1959` INT,\n",
        "        `1960` INT,\n",
        "        promedio FLOAT\n",
        "    );\n",
        "    '''.format(nombre_tabla)\n",
        "    cursor.execute(crear_tabla_query)\n"
      ],
      "metadata": {
        "id": "vlaGHkxnRH34"
      },
      "execution_count": 7,
      "outputs": []
    },
    {
      "cell_type": "code",
      "source": [
        "# Insertar los datos en la tabla\n",
        "for _, row in df.iterrows():\n",
        "    insertar_query = '''\n",
        "    INSERT INTO {} (Mes, `1958`, `1959`, `1960`, promedio)\n",
        "    VALUES ('{}', {}, {}, {}, {});\n",
        "    '''.format(nombre_tabla, row['Mes'], row['año 1958'], row['año 1959'], row['año 1960'], row['promedio'])\n",
        "    with conexion.cursor() as cursor:\n",
        "        cursor.execute(insertar_query)\n",
        "    conexion.commit()\n"
      ],
      "metadata": {
        "id": "tMin9sfzRJ87"
      },
      "execution_count": 8,
      "outputs": []
    },
    {
      "cell_type": "code",
      "source": [
        "# Confirmar los cambios en la base de datos\n",
        "    conexion.commit()"
      ],
      "metadata": {
        "id": "r_3O1tlYRQu7",
        "colab": {
          "base_uri": "https://localhost:8080/",
          "height": 134
        },
        "outputId": "c4b5f8b7-9a7f-4aa6-e4b8-71f781c1dce7"
      },
      "execution_count": 10,
      "outputs": [
        {
          "output_type": "error",
          "ename": "IndentationError",
          "evalue": "ignored",
          "traceback": [
            "\u001b[0;36m  File \u001b[0;32m\"<ipython-input-10-5012d1615c3e>\"\u001b[0;36m, line \u001b[0;32m2\u001b[0m\n\u001b[0;31m    conexion.commit()\u001b[0m\n\u001b[0m    ^\u001b[0m\n\u001b[0;31mIndentationError\u001b[0m\u001b[0;31m:\u001b[0m unexpected indent\n"
          ]
        }
      ]
    },
    {
      "cell_type": "code",
      "source": [
        "# Cerrar la conexión\n",
        "connection.close()"
      ],
      "metadata": {
        "id": "ttwM_Q3eRUMU"
      },
      "execution_count": null,
      "outputs": []
    }
  ]
}